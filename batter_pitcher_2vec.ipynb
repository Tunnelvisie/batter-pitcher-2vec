{
 "cells": [
  {
   "cell_type": "markdown",
   "metadata": {},
   "source": [
    "# Preparation"
   ]
  },
  {
   "cell_type": "markdown",
   "metadata": {},
   "source": [
    "I use Python 3, but everything should work with Python 2.\n",
    "\n",
    "1. Install [HDF5](https://www.hdfgroup.org/HDF5/release/obtain5.html).\n",
    "2. Install other packages:\n",
    "\n",
    "<code>pip install h5py keras matplotlib numpy pyyaml scipy scitkit-learn theano urllib3</code>"
   ]
  },
  {
   "cell_type": "markdown",
   "metadata": {},
   "source": [
    "# Tutorial"
   ]
  },
  {
   "cell_type": "markdown",
   "metadata": {},
   "source": [
    "The goal of this project is to learn distributed representations of MLB players, which can then be used for other types of analyses. The project is inspired by [word2vec](https://en.wikipedia.org/wiki/Word2vec) (hence the name), which learns distributed representations of words. These distributed representations often have pretty interesting properties; for example, Paris - France + Italy = Rome (see [here](https://papers.nips.cc/paper/5021-distributed-representations-of-words-and-phrases-and-their-compositionality.pdf) and [here](http://arxiv.org/pdf/1301.3781.pdf) for more details).\n",
    "\n",
    "In this notebook, I'll show you how I built a model that simultaneously learns distributed representations of pitchers and batters from at bat data."
   ]
  },
  {
   "cell_type": "markdown",
   "metadata": {},
   "source": [
    "To start things off, let's download some data from [Retrosheet.org](http://retrosheet.org/). We'll use data from the noughties."
   ]
  },
  {
   "cell_type": "code",
   "execution_count": null,
   "metadata": {
    "collapsed": false
   },
   "outputs": [],
   "source": [
    "import urllib.request\n",
    "\n",
    "urllib.request.urlretrieve(\"http://www.retrosheet.org/events/2000seve.zip\", \"2000seve.zip\")"
   ]
  },
  {
   "cell_type": "markdown",
   "metadata": {},
   "source": [
    "Now, extract the data."
   ]
  },
  {
   "cell_type": "code",
   "execution_count": null,
   "metadata": {
    "collapsed": true
   },
   "outputs": [],
   "source": [
    "import zipfile\n",
    "\n",
    "zip_ref = zipfile.ZipFile(\"2000seve.zip\", \"r\")\n",
    "zip_ref.extractall(\"2000seve\")\n",
    "zip_ref.close()"
   ]
  },
  {
   "cell_type": "markdown",
   "metadata": {},
   "source": [
    "Next, we'll prepare some variables for collecting the data."
   ]
  },
  {
   "cell_type": "code",
   "execution_count": 1,
   "metadata": {
    "collapsed": true
   },
   "outputs": [],
   "source": [
    "from os import listdir\n",
    "from os.path import isfile, join\n",
    "\n",
    "data_directory = \"/home/airalcorn2/Projects/Deep Baseball/2000seve\"\n",
    "data_files = [f for f in listdir(data_directory) if isfile(join(data_directory, f))]\n",
    "data = []\n",
    "at_bats = {}\n",
    "home_runs = {}\n",
    "singles = {}\n",
    "doubles = {}\n",
    "counts = {\"batter\": {}, \"pitcher\": {}}"
   ]
  },
  {
   "cell_type": "markdown",
   "metadata": {},
   "source": [
    "And now we'll read in the data. Unfortunately, this is going to be a bunch of spaghetti code. The goal is to collect the batter, pitcher, and pitch outcome (e.g., strike, ball, double) for every pitch. By the end of the following code block, we'll have a Python list of dictionaries with the format <code>{\"batter\": batter, \"pitcher\": pitcher, \"outcome\": outcome}</code>. To best understand what's going on in the code, you'll have to read through Retrosheet's [game file documentation](http://www.retrosheet.org/game.htm)."
   ]
  },
  {
   "cell_type": "code",
   "execution_count": 2,
   "metadata": {
    "collapsed": false
   },
   "outputs": [],
   "source": [
    "import string\n",
    "\n",
    "for data_file in data_files:\n",
    "    # Skip non-event files.\n",
    "    if not (\".EVA\" in data_file or \".EVN\" in data_file):\n",
    "        continue\n",
    "    \n",
    "    f = open(join(data_directory, data_file))\n",
    "    home_pitcher = None\n",
    "    away_pitcher = None\n",
    "    line = f.readline().strip()\n",
    "    \n",
    "    while line != \"\":\n",
    "        parts = line.split(\",\")\n",
    "        \n",
    "        # Get starting pitchers.\n",
    "        if parts[0] == \"id\":\n",
    "            while parts[0] != \"play\":\n",
    "                line = f.readline().strip()\n",
    "                parts = line.split(\",\")\n",
    "                if parts[0] == \"start\" and parts[-1] == \"1\":\n",
    "                    if parts[3] == \"0\":\n",
    "                        away_pitcher = parts[1]\n",
    "                    else:\n",
    "                        home_pitcher = parts[1]\n",
    "        \n",
    "        # Skip non-plays, steals, errors on foul fly balls, \n",
    "        # picked off stealings, and other random plays.\n",
    "        if (parts[-1] == \"NP\" or parts[-1][:2] == \"CS\" or parts[-1][:2] == \"DI\" or\n",
    "            parts[-1][:2] == \"SB\" or parts[-1][:3] == \"FLE\" or parts[-1][:4] == \"POCS\" or\n",
    "            parts[-1][:2] == \"OA\"):\n",
    "            line = f.readline().strip()\n",
    "            continue\n",
    "        \n",
    "        # Get at bat data.\n",
    "        if parts[0] == \"play\":\n",
    "            batter = parts[3]\n",
    "            pitcher = home_pitcher\n",
    "            if parts[2] == \"1\":\n",
    "                pitcher = away_pitcher\n",
    "            \n",
    "            at_bats[batter] = at_bats.get(batter, 0) + 1\n",
    "            counts[\"batter\"][batter] = counts[\"batter\"].get(batter, 0) + 1\n",
    "            counts[\"pitcher\"][pitcher] = counts[\"pitcher\"].get(pitcher, 0) + 1\n",
    "            \n",
    "            row = {\"batter\": batter, \"pitcher\": pitcher}\n",
    "            \n",
    "            # Handle balks, wild pitches, passed balls, and pickoffs.\n",
    "            if (parts[-1][:2] == \"BK\" or parts[-1][:2] == \"WP\" or\n",
    "                parts[-1][:2] == \"PB\" or parts[-1][:2] == \"PO\"):\n",
    "                row[\"outcome\"] = parts[-1][:2]\n",
    "                data.append(row)\n",
    "                line = f.readline().strip()\n",
    "                continue\n",
    "            \n",
    "            # Cycle through the piches for the current at bat.\n",
    "            # See \"The pitches field of the play record\" here: http://www.retrosheet.org/eventfile.htm.\n",
    "            pitches = parts[5]\n",
    "            i = 0\n",
    "            while i < len(pitches):\n",
    "                pitch = pitches[i]\n",
    "                \n",
    "                # Handle catcher pickoffs, pitches blocked by catcher, or runners.\n",
    "                if pitch == \"+\" or pitch == \">\":\n",
    "                    i += 1\n",
    "                    pitch = pitches[i]\n",
    "                elif pitch == \"*\":\n",
    "                    i += 1\n",
    "                    pitch += pitches[i]\n",
    "                \n",
    "                if \"X\" not in pitch and pitch != \".\" and pitch != \"*\" and pitch != \"+\":\n",
    "                    row[\"outcome\"] = pitch\n",
    "                    data.append(row)\n",
    "                \n",
    "                i += 1\n",
    "            \n",
    "            # If the last pitch resulted in contact, figure out the pitch outcome.\n",
    "            # See \"Events made by the batter at the plate\" here: http://www.retrosheet.org/eventfile.htm#8.\n",
    "            if pitches[-1] == \"X\":\n",
    "                play_parts = parts[6].split(\"/\")\n",
    "                main_play = play_parts[0]\n",
    "                play = main_play.split(\".\")[0]\n",
    "                \n",
    "                if play[0] == \"H\":\n",
    "                    play = \"HR\"\n",
    "                elif play[0] in string.digits:\n",
    "                    play = play[0]\n",
    "                elif play[0] in {\"S\", \"D\", \"T\"}:\n",
    "                    play = play[:2]\n",
    "                    # Try to get first ball handler.\n",
    "                    if len(play) < 2:\n",
    "                        try:\n",
    "                            handlers = play_parts[1]\n",
    "                            play = play[0] + handlers[0]\n",
    "                        except IndexError:\n",
    "                            pass\n",
    "                \n",
    "                row[\"outcome\"] = play\n",
    "                if play == \"HR\":\n",
    "                    home_runs[batter] = home_runs.get(batter, 0) + 1\n",
    "                elif play[0] == \"S\":\n",
    "                    singles[batter] = singles.get(batter, 0) + 1\n",
    "                elif play[0] == \"D\":\n",
    "                    doubles[batter] = doubles.get(batter, 0) + 1\n",
    "                \n",
    "                data.append(row)\n",
    "        \n",
    "        # Handle pitching changes.\n",
    "        if parts[0] == \"sub\":\n",
    "            if parts[-1] == \"1\":\n",
    "                if parts[3] == \"0\":\n",
    "                    away_pitcher = parts[1]\n",
    "                else:\n",
    "                    home_pitcher = parts[1]\n",
    "        \n",
    "        line = f.readline().strip()"
   ]
  },
  {
   "cell_type": "markdown",
   "metadata": {},
   "source": [
    "OK, now that we have our raw data, we're going to establish some cutoffs so that we're only analyzing players with a reasonable amount of data. We're going to only include the most frequent batters and pitchers (i.e., those who accounted for 90% of the pitches)."
   ]
  },
  {
   "cell_type": "code",
   "execution_count": 3,
   "metadata": {
    "collapsed": false
   },
   "outputs": [
    {
     "name": "stdout",
     "output_type": "stream",
     "text": [
      "batter\n",
      "Original: 2699\tNew: 715\tProportion: 0.26\n",
      "pitcher\n",
      "Original: 1760\tNew: 774\tProportion: 0.44\n"
     ]
    }
   ],
   "source": [
    "cutoffs = {}\n",
    "percentile_cutoff = 0.9\n",
    "for player_type in [\"batter\", \"pitcher\"]:\n",
    "    counts_list = list(counts[player_type].values())\n",
    "    counts_list.sort(reverse = True)\n",
    "    total_pitches = sum(counts_list)\n",
    "    cumulative_percentage = [sum(counts_list[:i + 1]) / total_pitches for i in range(len(counts_list))]\n",
    "    cutoff_index = sum([1 for total in cumulative_percentage if total <= percentile_cutoff])\n",
    "    cutoff = counts_list[cutoff_index]\n",
    "    cutoffs[player_type] = cutoff\n",
    "    print(player_type)\n",
    "    print(\"Original: {0}\\tNew: {1}\\tProportion: {2:.2f}\".format(\n",
    "            len(counts[player_type]), cutoff_index, cutoff_index / len(counts[player_type])))"
   ]
  },
  {
   "cell_type": "markdown",
   "metadata": {},
   "source": [
    "As you can see, only 26% of batters and 44% of pitchers were involved in 90% of the pitches."
   ]
  },
  {
   "cell_type": "markdown",
   "metadata": {},
   "source": [
    "Let's use these new cutoff points to build the final data set."
   ]
  },
  {
   "cell_type": "code",
   "execution_count": 4,
   "metadata": {
    "collapsed": false
   },
   "outputs": [
    {
     "name": "stdout",
     "output_type": "stream",
     "text": [
      "Original: 7204897\tReduced: 5867152\n"
     ]
    }
   ],
   "source": [
    "final_data = []\n",
    "for sample in data:\n",
    "    batter = sample[\"batter\"]\n",
    "    pitcher = sample[\"pitcher\"]\n",
    "    if counts[\"batter\"][batter] >= cutoffs[\"batter\"] and counts[\"pitcher\"][pitcher] >= cutoffs[\"pitcher\"]:\n",
    "        final_data.append(sample)\n",
    "\n",
    "print(\"Original: {0}\\tReduced: {1}\".format(len(data), len(final_data)))"
   ]
  },
  {
   "cell_type": "markdown",
   "metadata": {},
   "source": [
    "As you can see, we still have a large data set even after removing rare batters and pitchers."
   ]
  },
  {
   "cell_type": "markdown",
   "metadata": {},
   "source": [
    "Next, we're going to associate an integer index with each of our batters, pitchers, and outcomes, respectively."
   ]
  },
  {
   "cell_type": "code",
   "execution_count": 5,
   "metadata": {
    "collapsed": true
   },
   "outputs": [],
   "source": [
    "import random\n",
    "\n",
    "random.shuffle(final_data)\n",
    "\n",
    "categories = {\"batter\": set(), \"pitcher\": set(), \"outcome\": set()}\n",
    "for sample in final_data:\n",
    "    categories[\"batter\"].add(sample[\"batter\"])\n",
    "    categories[\"pitcher\"].add(sample[\"pitcher\"])\n",
    "    categories[\"outcome\"].add(sample[\"outcome\"])\n",
    "\n",
    "for column in categories:\n",
    "    categories[column] = list(categories[column])\n",
    "    categories[column].sort()\n",
    "\n",
    "category_to_int = {}\n",
    "for column in categories:\n",
    "    category_to_int[column] = {categories[column][i]: i for i in range(len(categories[column]))}"
   ]
  },
  {
   "cell_type": "markdown",
   "metadata": {},
   "source": [
    "We'll then use these newly defined integer indices to build the appropriate NumPy arrays for our model."
   ]
  },
  {
   "cell_type": "code",
   "execution_count": 6,
   "metadata": {
    "collapsed": false
   },
   "outputs": [
    {
     "name": "stderr",
     "output_type": "stream",
     "text": [
      "Using Theano backend.\n"
     ]
    }
   ],
   "source": [
    "import numpy as np\n",
    "from keras.utils import np_utils\n",
    "\n",
    "BATCH_SIZE = 100\n",
    "NUM_BATTERS = len(categories[\"batter\"])\n",
    "NUM_PITCHERS = len(categories[\"pitcher\"])\n",
    "NUM_OUTCOMES = len(categories[\"outcome\"])\n",
    "VEC_SIZE = 50\n",
    "\n",
    "data_sets = {\"batter\": [], \"pitcher\": [], \"outcome\": []}\n",
    "for sample in final_data:\n",
    "    for column in sample:\n",
    "        value = sample[column]\n",
    "        value_index = category_to_int[column][value]\n",
    "        data_sets[column].append(value_index)\n",
    "\n",
    "for column in data_sets:\n",
    "    data_sets[column] = np.array(data_sets[column])\n",
    "\n",
    "data_sets[\"outcome\"] = np_utils.to_categorical(data_sets[\"outcome\"], NUM_OUTCOMES)"
   ]
  },
  {
   "cell_type": "markdown",
   "metadata": {},
   "source": [
    "We're now ready to build our model with [Keras](http://keras.io/) and [Theano](http://deeplearning.net/software/theano/). The model is similar in spirit to a word2vec model in that we're trying to learn the player embeddings that best predict the outcome of a pitch (the \"target word\" in word2vec) given a certain batter and pitcher (the \"context\" in word2vec). We'll learn separate embedding matrices for batters and pitchers."
   ]
  },
  {
   "cell_type": "code",
   "execution_count": 9,
   "metadata": {
    "collapsed": false
   },
   "outputs": [],
   "source": [
    "from keras.layers import Embedding, Dropout, Merge\n",
    "from keras.layers.core import Dense, Reshape\n",
    "from keras.models import Sequential\n",
    "\n",
    "batter_embed = Sequential()\n",
    "batter_embed.add(Embedding(NUM_BATTERS, VEC_SIZE, input_length = 1))\n",
    "batter_embed.add(Reshape((VEC_SIZE,)))\n",
    "\n",
    "pitcher_embed = Sequential()\n",
    "pitcher_embed.add(Embedding(NUM_PITCHERS, VEC_SIZE, input_length = 1))\n",
    "pitcher_embed.add(Reshape((VEC_SIZE,)))\n",
    "\n",
    "model = Sequential()\n",
    "model.add(Merge([batter_embed, pitcher_embed], mode = \"concat\"))\n",
    "model.add(Dense(NUM_OUTCOMES, activation = \"softmax\"))\n",
    "# model.add(Dropout(0.5))\n",
    "model.compile(optimizer = \"sgd\", loss = \"categorical_crossentropy\",\n",
    "              metrics = [\"accuracy\"])"
   ]
  },
  {
   "cell_type": "markdown",
   "metadata": {},
   "source": [
    "And we're now ready to train our model. We'll save the weights at the end of training."
   ]
  },
  {
   "cell_type": "code",
   "execution_count": 10,
   "metadata": {
    "collapsed": false
   },
   "outputs": [
    {
     "name": "stdout",
     "output_type": "stream",
     "text": [
      "Epoch 1/100\n",
      "88s - loss: 3.0684 - acc: 0.1517\n",
      "Epoch 2/100\n",
      "95s - loss: 2.9515 - acc: 0.1572\n",
      "Epoch 3/100\n",
      "93s - loss: 2.9258 - acc: 0.1638\n",
      "Epoch 4/100\n",
      "99s - loss: 2.9133 - acc: 0.1662\n",
      "Epoch 5/100\n",
      "97s - loss: 2.9060 - acc: 0.1671\n",
      "Epoch 6/100\n",
      "104s - loss: 2.9010 - acc: 0.1675\n",
      "Epoch 7/100\n",
      "103s - loss: 2.8972 - acc: 0.1678\n",
      "Epoch 8/100\n",
      "98s - loss: 2.8942 - acc: 0.1679\n",
      "Epoch 9/100\n",
      "104s - loss: 2.8919 - acc: 0.1680\n",
      "Epoch 10/100\n",
      "110s - loss: 2.8899 - acc: 0.1681\n",
      "Epoch 11/100\n",
      "101s - loss: 2.8882 - acc: 0.1683\n",
      "Epoch 12/100\n",
      "100s - loss: 2.8867 - acc: 0.1682\n",
      "Epoch 13/100\n",
      "99s - loss: 2.8853 - acc: 0.1683\n",
      "Epoch 14/100\n",
      "107s - loss: 2.8841 - acc: 0.1682\n",
      "Epoch 15/100\n",
      "100s - loss: 2.8829 - acc: 0.1683\n",
      "Epoch 16/100\n",
      "102s - loss: 2.8817 - acc: 0.1683\n",
      "Epoch 17/100\n",
      "100s - loss: 2.8807 - acc: 0.1683\n",
      "Epoch 18/100\n",
      "103s - loss: 2.8797 - acc: 0.1684\n",
      "Epoch 19/100\n",
      "107s - loss: 2.8788 - acc: 0.1684\n",
      "Epoch 20/100\n",
      "100s - loss: 2.8779 - acc: 0.1684\n",
      "Epoch 21/100\n",
      "103s - loss: 2.8771 - acc: 0.1684\n",
      "Epoch 22/100\n",
      "104s - loss: 2.8764 - acc: 0.1684\n",
      "Epoch 23/100\n",
      "100s - loss: 2.8757 - acc: 0.1684\n",
      "Epoch 24/100\n",
      "97s - loss: 2.8751 - acc: 0.1684\n",
      "Epoch 25/100\n",
      "98s - loss: 2.8745 - acc: 0.1684\n",
      "Epoch 26/100\n",
      "98s - loss: 2.8739 - acc: 0.1684\n",
      "Epoch 27/100\n",
      "97s - loss: 2.8734 - acc: 0.1684\n",
      "Epoch 28/100\n",
      "98s - loss: 2.8730 - acc: 0.1684\n",
      "Epoch 29/100\n",
      "97s - loss: 2.8725 - acc: 0.1684\n",
      "Epoch 30/100\n",
      "100s - loss: 2.8721 - acc: 0.1683\n",
      "Epoch 31/100\n",
      "97s - loss: 2.8718 - acc: 0.1684\n",
      "Epoch 32/100\n",
      "97s - loss: 2.8714 - acc: 0.1684\n",
      "Epoch 33/100\n",
      "97s - loss: 2.8711 - acc: 0.1684\n",
      "Epoch 34/100\n",
      "103s - loss: 2.8708 - acc: 0.1684\n",
      "Epoch 35/100\n",
      "103s - loss: 2.8705 - acc: 0.1684\n",
      "Epoch 36/100\n",
      "100s - loss: 2.8702 - acc: 0.1684\n",
      "Epoch 37/100\n",
      "112s - loss: 2.8700 - acc: 0.1684\n",
      "Epoch 38/100\n",
      "104s - loss: 2.8697 - acc: 0.1684\n",
      "Epoch 39/100\n",
      "106s - loss: 2.8695 - acc: 0.1684\n",
      "Epoch 40/100\n",
      "101s - loss: 2.8693 - acc: 0.1684\n",
      "Epoch 41/100\n",
      "99s - loss: 2.8691 - acc: 0.1684\n",
      "Epoch 42/100\n",
      "97s - loss: 2.8689 - acc: 0.1684\n",
      "Epoch 43/100\n",
      "102s - loss: 2.8687 - acc: 0.1684\n",
      "Epoch 44/100\n",
      "113s - loss: 2.8685 - acc: 0.1684\n",
      "Epoch 45/100\n",
      "105s - loss: 2.8683 - acc: 0.1684\n",
      "Epoch 46/100\n",
      "94s - loss: 2.8681 - acc: 0.1684\n",
      "Epoch 47/100\n",
      "95s - loss: 2.8679 - acc: 0.1684\n",
      "Epoch 48/100\n",
      "104s - loss: 2.8678 - acc: 0.1684\n",
      "Epoch 49/100\n",
      "109s - loss: 2.8676 - acc: 0.1684\n",
      "Epoch 50/100\n",
      "95s - loss: 2.8675 - acc: 0.1684\n",
      "Epoch 51/100\n",
      "96s - loss: 2.8673 - acc: 0.1684\n",
      "Epoch 52/100\n",
      "94s - loss: 2.8672 - acc: 0.1684\n",
      "Epoch 53/100\n",
      "95s - loss: 2.8670 - acc: 0.1685\n",
      "Epoch 54/100\n",
      "98s - loss: 2.8669 - acc: 0.1684\n",
      "Epoch 55/100\n",
      "98s - loss: 2.8668 - acc: 0.1684\n",
      "Epoch 56/100\n",
      "106s - loss: 2.8666 - acc: 0.1684\n",
      "Epoch 57/100\n",
      "97s - loss: 2.8665 - acc: 0.1684\n",
      "Epoch 58/100\n",
      "98s - loss: 2.8664 - acc: 0.1684\n",
      "Epoch 59/100\n",
      "98s - loss: 2.8662 - acc: 0.1685\n",
      "Epoch 60/100\n",
      "107s - loss: 2.8661 - acc: 0.1684\n",
      "Epoch 61/100\n",
      "112s - loss: 2.8660 - acc: 0.1684\n",
      "Epoch 62/100\n",
      "101s - loss: 2.8659 - acc: 0.1685\n",
      "Epoch 63/100\n",
      "96s - loss: 2.8658 - acc: 0.1684\n",
      "Epoch 64/100\n",
      "98s - loss: 2.8657 - acc: 0.1684\n",
      "Epoch 65/100\n",
      "93s - loss: 2.8656 - acc: 0.1684\n",
      "Epoch 66/100\n",
      "95s - loss: 2.8654 - acc: 0.1684\n",
      "Epoch 67/100\n",
      "93s - loss: 2.8653 - acc: 0.1684\n",
      "Epoch 68/100\n",
      "94s - loss: 2.8652 - acc: 0.1684\n",
      "Epoch 69/100\n",
      "95s - loss: 2.8651 - acc: 0.1684\n",
      "Epoch 70/100\n",
      "93s - loss: 2.8650 - acc: 0.1684\n",
      "Epoch 71/100\n",
      "93s - loss: 2.8649 - acc: 0.1684\n",
      "Epoch 72/100\n",
      "93s - loss: 2.8648 - acc: 0.1684\n",
      "Epoch 73/100\n",
      "94s - loss: 2.8647 - acc: 0.1684\n",
      "Epoch 74/100\n",
      "95s - loss: 2.8646 - acc: 0.1684\n",
      "Epoch 75/100\n",
      "93s - loss: 2.8646 - acc: 0.1684\n",
      "Epoch 76/100\n",
      "95s - loss: 2.8645 - acc: 0.1684\n",
      "Epoch 77/100\n",
      "93s - loss: 2.8644 - acc: 0.1684\n",
      "Epoch 78/100\n",
      "94s - loss: 2.8643 - acc: 0.1684\n",
      "Epoch 79/100\n",
      "94s - loss: 2.8642 - acc: 0.1684\n",
      "Epoch 80/100\n",
      "94s - loss: 2.8641 - acc: 0.1684\n",
      "Epoch 81/100\n",
      "94s - loss: 2.8640 - acc: 0.1684\n",
      "Epoch 82/100\n",
      "114s - loss: 2.8639 - acc: 0.1684\n",
      "Epoch 83/100\n",
      "107s - loss: 2.8639 - acc: 0.1684\n",
      "Epoch 84/100\n",
      "115s - loss: 2.8638 - acc: 0.1684\n",
      "Epoch 85/100\n",
      "114s - loss: 2.8637 - acc: 0.1685\n",
      "Epoch 86/100\n",
      "110s - loss: 2.8636 - acc: 0.1684\n",
      "Epoch 87/100\n",
      "113s - loss: 2.8635 - acc: 0.1684\n",
      "Epoch 88/100\n",
      "112s - loss: 2.8635 - acc: 0.1684\n",
      "Epoch 89/100\n",
      "106s - loss: 2.8634 - acc: 0.1685\n",
      "Epoch 90/100\n",
      "100s - loss: 2.8633 - acc: 0.1684\n",
      "Epoch 91/100\n",
      "95s - loss: 2.8632 - acc: 0.1684\n",
      "Epoch 92/100\n",
      "113s - loss: 2.8632 - acc: 0.1684\n",
      "Epoch 93/100\n",
      "112s - loss: 2.8631 - acc: 0.1684\n",
      "Epoch 94/100\n",
      "111s - loss: 2.8630 - acc: 0.1684\n",
      "Epoch 95/100\n",
      "111s - loss: 2.8630 - acc: 0.1685\n",
      "Epoch 96/100\n",
      "136s - loss: 2.8629 - acc: 0.1684\n",
      "Epoch 97/100\n",
      "122s - loss: 2.8628 - acc: 0.1684\n",
      "Epoch 98/100\n",
      "96s - loss: 2.8627 - acc: 0.1684\n",
      "Epoch 99/100\n",
      "106s - loss: 2.8627 - acc: 0.1685\n",
      "Epoch 100/100\n",
      "104s - loss: 2.8626 - acc: 0.1684\n"
     ]
    }
   ],
   "source": [
    "X_list = [data_sets[\"batter\"].reshape(data_sets[\"batter\"].shape[0], 1),\n",
    "          data_sets[\"pitcher\"].reshape(data_sets[\"pitcher\"].shape[0], 1)]\n",
    "y = data_sets[\"outcome\"]\n",
    "model.fit(X_list, y, nb_epoch = 100, batch_size = 100, verbose = 2, shuffle = True)\n",
    "model.save_weights(\"weights.hdf5\")\n",
    "model.load_weights(\"weights.hdf5\")"
   ]
  },
  {
   "cell_type": "markdown",
   "metadata": {},
   "source": [
    "Having trained the model, let's go ahead and get the distributed representations for all of our players. In order to do so, we need to define some functions that return an embedding when provided with a player's integer index."
   ]
  },
  {
   "cell_type": "code",
   "execution_count": 11,
   "metadata": {
    "collapsed": true
   },
   "outputs": [],
   "source": [
    "from keras import backend\n",
    "\n",
    "get_batter_vec = backend.function([batter_embed.input], batter_embed.output)\n",
    "get_pitcher_vec = backend.function([pitcher_embed.input], pitcher_embed.output)\n",
    "\n",
    "batter_vecs = [get_batter_vec([np.array([[i]])]) for i in range(NUM_BATTERS)]\n",
    "pitcher_vecs = [get_pitcher_vec([np.array([[i]])]) for i in range(NUM_PITCHERS)]\n",
    "\n",
    "# Get distributed representation of players.\n",
    "batter_vecs = np.array(batter_vecs).reshape((NUM_BATTERS, VEC_SIZE))\n",
    "pitcher_vecs = np.array(pitcher_vecs).reshape((NUM_PITCHERS, VEC_SIZE))\n",
    "player_vecs = {\"batter\": batter_vecs, \"pitcher\": pitcher_vecs}"
   ]
  },
  {
   "cell_type": "markdown",
   "metadata": {},
   "source": [
    "Now, let's find out if these embeddings are doing anything interesting. First, let's collect some information about the players."
   ]
  },
  {
   "cell_type": "code",
   "execution_count": 12,
   "metadata": {
    "collapsed": true
   },
   "outputs": [],
   "source": [
    "# Get player data.\n",
    "player_data = {}\n",
    "\n",
    "for data_file in data_files:\n",
    "    if \".ROS\" in data_file:\n",
    "        f = open(join(data_directory, data_file))\n",
    "        for line in f:\n",
    "            parts = line.strip().split(\",\")\n",
    "            player_id = parts[0]\n",
    "            last_name = parts[1]\n",
    "            first_name = parts[2]\n",
    "            name = first_name + \" \" + last_name\n",
    "            batting_hand = parts[3]\n",
    "            throwing_hand = parts[4]\n",
    "            position = parts[6]\n",
    "            player_data[player_id] = {\"name\": name, \"batting_hand\": batting_hand,\n",
    "                                      \"throwing_hand\": throwing_hand, \"position\": position}"
   ]
  },
  {
   "cell_type": "markdown",
   "metadata": {},
   "source": [
    "Here, we're going to use the [t-SNE](https://en.wikipedia.org/wiki/T-distributed_stochastic_neighbor_embedding) algorithm to visualize the embeddings."
   ]
  },
  {
   "cell_type": "code",
   "execution_count": 13,
   "metadata": {
    "collapsed": false
   },
   "outputs": [],
   "source": [
    "import matplotlib.pyplot as plt\n",
    "\n",
    "from mpl_toolkits.mplot3d import Axes3D\n",
    "from sklearn.manifold import TSNE\n",
    "\n",
    "NUM_PLAYERS = {\"batter\": NUM_BATTERS, \"pitcher\": NUM_PITCHERS}\n",
    "\n",
    "\n",
    "def run_tsne(player_type):    \n",
    "    player_names = []\n",
    "    for i in range(NUM_PLAYERS[player_type]):\n",
    "        player_id = categories[player_type][i]\n",
    "        player_names.append(player_data[player_id][\"name\"])\n",
    "    \n",
    "    tsne = TSNE(n_components = 3, learning_rate = 100)\n",
    "    manifold_3d = tsne.fit_transform(player_vecs[player_type])\n",
    "    \n",
    "    fig = plt.figure()\n",
    "    ax = fig.add_subplot(111, projection = \"3d\")\n",
    "    ax.scatter(manifold_3d[:, 0], manifold_3d[:, 1], manifold_3d[:, 2])\n",
    "    \n",
    "    plt.show()\n",
    "    \n",
    "    tsne = TSNE(n_components = 2, learning_rate = 100)\n",
    "    manifold_2d = tsne.fit_transform(player_vecs[player_type])\n",
    "    (x, y) = (manifold_2d[:, 0], manifold_2d[:, 1])\n",
    "    \n",
    "    plt.scatter(x, y)\n",
    "    for i in range(len(player_names)):\n",
    "        plt.text(x[i], y[i], player_names[i], va = \"top\", family = \"monospace\")\n",
    "\n",
    "    plt.show()\n",
    "    \n",
    "    return manifold_3d\n",
    "\n",
    "\n",
    "tsne_batters = run_tsne(\"batter\")\n",
    "tsne_pitchers = run_tsne(\"pitcher\")"
   ]
  },
  {
   "cell_type": "markdown",
   "metadata": {},
   "source": [
    "Next, we're going to perform a [principal component analysis](https://en.wikipedia.org/wiki/Principal_component_analysis) (PCA) on the embeddings and color them with various interesting properties."
   ]
  },
  {
   "cell_type": "code",
   "execution_count": 14,
   "metadata": {
    "collapsed": false
   },
   "outputs": [
    {
     "name": "stdout",
     "output_type": "stream",
     "text": [
      "[ 0.13223021  0.12286694  0.08537145  0.0525946   0.04789656  0.0431582\n",
      "  0.03850202  0.03790293  0.03516199  0.03114783  0.02675426  0.02388979\n",
      "  0.02160699  0.02118008  0.01953577  0.01837644  0.0179307   0.01772697\n",
      "  0.01635154  0.01565541  0.01439157  0.01396391  0.01347487  0.01327055\n",
      "  0.01259823  0.01164937  0.01021037  0.01007907  0.00949579  0.00927316\n",
      "  0.00699846  0.00673589  0.00477701  0.0045842   0.00364564  0.00348533\n",
      "  0.00271707  0.00254637  0.0024559   0.00217474  0.00198852  0.00177959\n",
      "  0.00172125  0.00170362  0.00165129  0.00149731  0.00141244  0.00137111\n",
      "  0.00129052  0.00121625]\n",
      "[ 0.12636515  0.07242899  0.06970441  0.05834733  0.04754408  0.04151186\n",
      "  0.03415529  0.03311685  0.03091065  0.0292076   0.02853769  0.02628876\n",
      "  0.02476904  0.0240183   0.02371372  0.02331884  0.02278794  0.02082521\n",
      "  0.02048968  0.01961536  0.01826623  0.01791103  0.01655461  0.01629054\n",
      "  0.0149606   0.01438989  0.01328173  0.01292827  0.01232073  0.01130352\n",
      "  0.01006282  0.00779779  0.00664677  0.00554875  0.00457708  0.00426376\n",
      "  0.00398371  0.00358489  0.00317286  0.00297805  0.00261467  0.00250755\n",
      "  0.00233394  0.00232013  0.00222681  0.00210684  0.00199751  0.00189576\n",
      "  0.00181809  0.00169833]\n"
     ]
    }
   ],
   "source": [
    "from sklearn import decomposition\n",
    "\n",
    "\n",
    "def run_pca(player_vecs, colors = None, pc_x = 0, pc_y = 1, pc_z = 2, do_print = False, title = \"\"):\n",
    "    \"\"\"\n",
    "    Run a PCA on the embedded player representations.\n",
    "    :param player_vecs: \n",
    "    :param colors: \n",
    "    :param pc_x: \n",
    "    :param pc_y: \n",
    "    :param pc_z: \n",
    "    :return: \n",
    "    \"\"\"\n",
    "    pca = decomposition.PCA()\n",
    "    pca.fit(player_vecs)\n",
    "    if do_print:\n",
    "        print(pca.explained_variance_ratio_)\n",
    "    \n",
    "    projected = pca.transform(player_vecs)\n",
    "    \n",
    "    fig = plt.figure()\n",
    "    ax = fig.add_subplot(111, projection = \"3d\")\n",
    "    ax.scatter(projected[:, pc_x], projected[:, pc_y], projected[:, pc_z], color = colors)\n",
    "    ax.set_title(title)\n",
    "    \n",
    "    plt.show()\n",
    "    \n",
    "    plt.scatter(projected[:, pc_x], projected[:, pc_y], c = colors, cmap = \"gray\")\n",
    "    plt.title(title)\n",
    "    plt.show()\n",
    "    return projected\n",
    "\n",
    "\n",
    "max_hr_rate = max([home_runs.get(batter_id, 0) / at_bats[batter_id] for batter_id in at_bats if batter_id in categories[\"batter\"]])\n",
    "max_single_rate = max([singles.get(batter_id, 0) / at_bats[batter_id] for batter_id in at_bats if batter_id in categories[\"batter\"]])\n",
    "max_double_rate = max([doubles.get(batter_id, 0) / at_bats[batter_id] for batter_id in at_bats if batter_id in categories[\"batter\"]])\n",
    "\n",
    "batting_hand_color = {\"L\": \"red\", \"R\": \"green\", \"B\": \"purple\"}\n",
    "batter_colors = {\"hand\": [], \"hr\": [], \"single\": [], \"double\": []}\n",
    "for i in range(NUM_BATTERS):\n",
    "    batter_id = categories[\"batter\"][i]\n",
    "    batting_hand = player_data[batter_id][\"batting_hand\"]\n",
    "    batter_colors[\"hand\"].append(batting_hand_color[batting_hand])\n",
    "    batter_colors[\"hr\"].append(str((home_runs.get(batter_id, 0) / at_bats[batter_id]) / max_hr_rate))\n",
    "    batter_colors[\"single\"].append(str((singles.get(batter_id, 0) / at_bats[batter_id]) / max_single_rate))\n",
    "    batter_colors[\"double\"].append(str((doubles.get(batter_id, 0) / at_bats[batter_id]) / max_double_rate))\n",
    "\n",
    "for batter_color in [\"hand\", \"single\", \"double\", \"hr\"]:\n",
    "    projected_batters = run_pca(batter_vecs, batter_colors[batter_color], title = \"batter_{0}\".format(batter_color))\n",
    "    no = run_pca(batter_vecs, batter_colors[batter_color], 1, 2, 3)\n",
    "\n",
    "projected_batters = run_pca(batter_vecs, batter_colors[\"hr\"], do_print = True)\n",
    "projected_pitchers = run_pca(pitcher_vecs, do_print = True)"
   ]
  },
  {
   "cell_type": "markdown",
   "metadata": {},
   "source": [
    "As you can see, there are some interesting patterns in the embeddings. For example, right-handed hitters are clearly separated from left-handed and switch hitters.\n",
    "\n",
    "<img src=\"batters_hand_pca.png\">\n",
    "\n",
    "Similarly, frequent singles hitters are far from infrequent singles hitters.\n",
    "\n",
    "<img src=\"batters_singles_pca.png\">\n",
    "\n",
    "So, the model is clearly learning something, but whether or not what it's learning is non-trivial remains to be seen."
   ]
  },
  {
   "cell_type": "markdown",
   "metadata": {},
   "source": [
    "Let's go ahead and save those PC scores in a CSV to play around with elsewhere if we want."
   ]
  },
  {
   "cell_type": "code",
   "execution_count": 15,
   "metadata": {
    "collapsed": false
   },
   "outputs": [],
   "source": [
    "import csv\n",
    "\n",
    "\n",
    "def write_projected_data(player_type, projected, fieldnames, projection):\n",
    "    \"\"\"\n",
    "    Write the projected scores of the players to a file.\n",
    "    :param player_type: \n",
    "    :param projected: \n",
    "    :param fieldnames: \n",
    "    :return: \n",
    "    \"\"\"\n",
    "    out = open(\"{0}s_{1}.csv\".format(player_type, projection), \"w\")\n",
    "    output = csv.DictWriter(out, fieldnames = fieldnames)\n",
    "    output.writeheader()\n",
    "    \n",
    "    for i in range(NUM_PLAYERS[player_type]):\n",
    "        player_id = categories[player_type][i]\n",
    "        row = {}\n",
    "        for col in fieldnames:\n",
    "            if col in player_data[player_id]:\n",
    "                row[col] = player_data[player_id][col]\n",
    "        \n",
    "        xyz = [\"x\", \"y\", \"z\"]\n",
    "        for j in range(3):\n",
    "            if projection == \"pca\":\n",
    "                row[\"PC{0}\".format(j + 1)] = projected[i][j]\n",
    "            else:\n",
    "                row[xyz[j]] = projected[i][j]\n",
    "        \n",
    "        row[\"player_id\"] = player_id\n",
    "        if player_type == \"batter\":\n",
    "            row[\"hr_rate\"] = home_runs.get(player_id, 0) / at_bats[player_id]\n",
    "        \n",
    "        nothing = output.writerow(row)\n",
    "    \n",
    "    out.close()\n",
    "\n",
    "\n",
    "fieldnames = [\"player_id\", \"name\", \"position\", \"batting_hand\", \"throwing_hand\", \"hr_rate\", \"PC1\", \"PC2\", \"PC3\"]\n",
    "write_projected_data(\"batter\", projected_batters, fieldnames, \"pca\")\n",
    "write_projected_data(\"batter\", tsne_batters, fieldnames[:-3] + [\"x\", \"y\", \"z\"], \"tsne\")\n",
    "\n",
    "fieldnames = [\"player_id\", \"name\", \"throwing_hand\", \"PC1\", \"PC2\", \"PC3\"]\n",
    "write_projected_data(\"pitcher\", projected_pitchers, fieldnames, \"pca\")\n",
    "write_projected_data(\"pitcher\", tsne_pitchers, fieldnames[:-3] + [\"x\", \"y\", \"z\"], \"tsne\")"
   ]
  },
  {
   "cell_type": "markdown",
   "metadata": {},
   "source": [
    "To get a better sense of the embeddings, I recommend exploring the PC scores in my open source [ScatterPlot3D](https://sites.google.com/site/michaelaalcorn/ScatterPlot3D) software. To run it:\n",
    "\n",
    "1. Download the appropriate build.\n",
    "2. Run with <code>java -jar ScatterPlot3D-&lt;version&gt;.jar</code> on Linux systems or by double-clicking the JAR on Windows.\n",
    "3. Load the data.\n",
    "4. Put 4, 5, and 6 for x, y, and z for \"pitchers_pca.csv\" or 7, 8, and 9 for \"batters_pca.csv\".\n",
    "5. Click \"Submit\".\n",
    "\n",
    "You can then search, zoom, and rotate the data or click on individual points for more details. For example:\n",
    "\n",
    "<img src=\"pitchers_tsne_all.png\">\n",
    "\n",
    "<img src=\"pedro_martinez.png\">\n",
    "\n",
    "Documentation can be downloaded [here](https://sites.google.com/site/michaelaalcorn/ScatterPlot3D/SupplementaryMaterials.zip?attredirects=0&d=1). A gallery of application screenshots can be found [here](http://imgur.com/a/U833y)."
   ]
  },
  {
   "cell_type": "markdown",
   "metadata": {},
   "source": [
    "We'll also save the player embeddings."
   ]
  },
  {
   "cell_type": "code",
   "execution_count": 16,
   "metadata": {
    "collapsed": true
   },
   "outputs": [],
   "source": [
    "def write_distributed_representations(player_type, player_vecs):\n",
    "    \"\"\"\n",
    "    Write the hidden vector representation of the players to a file.\n",
    "    :param player_type: \n",
    "    :param player_vecs: \n",
    "    :return: \n",
    "    \"\"\"\n",
    "    out = open(\"{0}s_latent.csv\".format(player_type), \"w\")\n",
    "    fieldnames = [\"name\"] + [\"latent_{0}\".format(i + 1) for i in range(VEC_SIZE)]\n",
    "    output = csv.DictWriter(out, fieldnames = fieldnames)\n",
    "    output.writeheader()\n",
    "    \n",
    "    for i in range(NUM_PLAYERS[player_type]):\n",
    "        player_id = categories[player_type][i]\n",
    "        row = {\"name\": player_data[player_id][\"name\"]}\n",
    "        \n",
    "        for j in range(VEC_SIZE):\n",
    "            row[\"latent_{0}\".format(j + 1)] = player_vecs[i][j]\n",
    "        \n",
    "        nothing = output.writerow(row)\n",
    "    \n",
    "    out.close()\n",
    "\n",
    "\n",
    "write_distributed_representations(\"batter\", batter_vecs)\n",
    "write_distributed_representations(\"pitcher\", pitcher_vecs)"
   ]
  },
  {
   "cell_type": "markdown",
   "metadata": {},
   "source": [
    "So, do the embeddings contain any non-obvious information? Maybe comparing nearest neighbors will provide some insight."
   ]
  },
  {
   "cell_type": "code",
   "execution_count": 17,
   "metadata": {
    "collapsed": false,
    "scrolled": true
   },
   "outputs": [
    {
     "name": "stdout",
     "output_type": "stream",
     "text": [
      "Barry Bonds\n",
      "[('Lance Berkman', 0.80362719512503178), ('Luis Gonzalez', 0.81064423585497591), ('Rafael Palmeiro', 0.83048049922199019), ('Carlos Delgado', 0.83236090089884773), ('Erubiel Durazo', 0.85260775960412272), ('Larry Walker', 0.86558149817812369), ('Mark Teixeira', 0.86814735972554424), ('Jim Thome', 0.88391322107211046), ('Brian Giles', 0.88633155655171592), ('Jason Giambi', 0.88935383504254895)]\n",
      "\n",
      "Ichiro Suzuki\n",
      "[('Jose Reyes', 0.87172853791218863), ('Melky Cabrera', 0.8774168578851943), ('Ross Gload', 0.88014064020989569), ('Aaron Miles', 0.89513516389704362), ('Jacoby Ellsbury', 0.91225106292926716), ('James Loney', 0.91241217495568494), ('Carl Crawford', 0.91697925056492258), ('Pablo Sandoval', 0.92538678486094827), ('Cesar Izturis', 0.92626444147775433), ('Jose Vizcaino', 0.93230174803919452)]\n",
      "\n",
      "Bartolo Colon\n",
      "[('Rodrigo Lopez', 0.54489953082561748), ('Andy Sonnanstine', 0.54990961752142942), ('Ben Sheets', 0.55292689441319642), ('Elmer Dessens', 0.57579324764653239), ('Gil Meche', 0.57958233646542501), ('Kelvim Escobar', 0.58548181192390136), ('Gavin Floyd', 0.62046846122514077), ('Jake Peavy', 0.62610091988256811), ('Russ Ortiz', 0.63498091863916073), ('Jeff Weaver', 0.64015936355387415)]\n",
      "\n",
      "Barry Zito\n",
      "[('Jamie Moyer', 0.57935181442219907), ('Jarrod Washburn', 0.59555437881404583), ('Ricardo Rincon', 0.60299359405755271), ('Jason Marquis', 0.6080860637385006), ('J.A. Happ', 0.61520753257422944), ('Chad Durbin', 0.61930209050705298), ('John Patterson', 0.62488591446965747), ('Joel Pineiro', 0.6255288257836874), ('Rich Hill', 0.62770816746106373), ('Bruce Chen', 0.63290596576604441)]\n",
      "\n"
     ]
    }
   ],
   "source": [
    "import pandas as pd\n",
    "\n",
    "\n",
    "def get_nearest_neighbors(name, data, latent_vecs, player_names, k = 10):\n",
    "    \"\"\"\n",
    "    Print the k nearest neighbors (in the latent space) of a given player.\n",
    "    :param name: \n",
    "    :param k: \n",
    "    :return: \n",
    "    \"\"\"\n",
    "    player_index = np.where(data[\"name\"] == name)[0]\n",
    "    player_latent = latent_vecs[player_index]\n",
    "    distances = list(np.linalg.norm(latent_vecs - player_latent, axis = 1))\n",
    "    distances_and_ids = list(zip(player_names, distances))\n",
    "    distances_and_ids.sort(key = lambda x: x[1])\n",
    "    \n",
    "    return distances_and_ids[1:1 + k]\n",
    "\n",
    "\n",
    "data_files = [\"batters_latent.csv\", \"pitchers_latent.csv\"]\n",
    "data = {}\n",
    "player_names = {}\n",
    "latent_vecs = {}\n",
    "for player_type in [\"batter\", \"pitcher\"]:\n",
    "    data_file = \"{0}s_latent.csv\".format(player_type)\n",
    "    data[player_type] = pd.read_csv(data_file)\n",
    "    player_names[player_type] = list(data[player_type][\"name\"])\n",
    "    latent_vecs[player_type] = np.array(data[player_type].iloc[:, 1:])\n",
    "\n",
    "print(\"Barry Bonds\")\n",
    "print(get_nearest_neighbors(\"Barry Bonds\", data[\"batter\"], latent_vecs[\"batter\"], player_names[\"batter\"]))\n",
    "print()\n",
    "\n",
    "print(\"Ichiro Suzuki\")\n",
    "print(get_nearest_neighbors(\"Ichiro Suzuki\", data[\"batter\"], latent_vecs[\"batter\"], player_names[\"batter\"]))\n",
    "print()\n",
    "\n",
    "print(\"Bartolo Colon\")\n",
    "print(get_nearest_neighbors(\"Bartolo Colon\", data[\"pitcher\"], latent_vecs[\"pitcher\"], player_names[\"pitcher\"]))\n",
    "print()\n",
    "\n",
    "print(\"Barry Zito\")\n",
    "print(get_nearest_neighbors(\"Barry Zito\", data[\"pitcher\"], latent_vecs[\"pitcher\"], player_names[\"pitcher\"]))\n",
    "print()"
   ]
  },
  {
   "cell_type": "markdown",
   "metadata": {},
   "source": [
    "Unfortunately, my rather limited baseball knowledge means I do not know the answer to that question. Maybe you can tell me? We can also combine players."
   ]
  },
  {
   "cell_type": "code",
   "execution_count": 18,
   "metadata": {
    "collapsed": false
   },
   "outputs": [
    {
     "name": "stdout",
     "output_type": "stream",
     "text": [
      "Barry Bonds + Ichiro Suzuki\n",
      "[('Ichiro Suzuki', 1.0597341747849967), ('Larry Walker', 1.2526869912105965), ('Vladimir Guerrero', 1.2764425130202823), ('Luis Gonzalez', 1.2918941115773057), ('Denard Span', 1.292874997312385), ('Alex Cora', 1.3149836998412763), ('James Loney', 1.31904800724515), ('Justin Morneau', 1.3364855159838764), ('Brian Schneider', 1.3494308857061366), ('Lance Berkman', 1.3556282122921379)]\n",
      "\n",
      "Barry Bonds - Ichiro Suzuki\n",
      "[('Jim Edmonds', 1.1501339488914302), ('Rafael Palmeiro', 1.1643522540860227), ('Jason Giambi', 1.1885634392945157), ('Ken Caminiti', 1.1941923175472959), ('Jim Thome', 1.2070914893670273), ('Adam Dunn', 1.2097113021519463), ('Jorge Posada', 1.2116652692963454), ('Carlos Pena', 1.2259274790694425), ('Matt Stairs', 1.2283479082902424), ('Robin Ventura', 1.2392215137687161)]\n",
      "\n",
      "Ichiro Suzuki - Barry Bonds\n",
      "[('Emilio Bonifacio', 1.1303135934126758), ('Tony Womack', 1.176181674841251), ('Wilton Guerrero', 1.1814406481945918), ('Alex Sanchez', 1.191771711978477), ('Tike Redman', 1.230468219633434), ('Juan Pierre', 1.2333131711928254), ('Tony Pena', 1.2635845579728175), ('Luis Gonzalez', 1.2770936131353594), ('Nyjer Morgan', 1.2776768405268344), ('Michael Bourn', 1.2791587267140156)]\n",
      "\n",
      "Bartolo Colon + Barry Zito\n",
      "[('Bartolo Colon', 0.60978138199745868), ('Rich Hill', 0.75565243403262483), ('Jeremy Guthrie', 0.76043229762249742), ('David Price', 0.7644339055013184), ('Josh Beckett', 0.8073539788773435), ('Al Reyes', 0.81509306196300568), ('Jamie Moyer', 0.81534245353571266), ('Jarrod Washburn', 0.8155956090263381), ('Ryan Rowland-Smith', 0.81626410692821227), ('J.A. Happ', 0.82201005522032633)]\n",
      "\n",
      "Bartolo Colon - Barry Zito\n",
      "[('Elmer Dessens', 0.73602609878094283), ('Brandon Lyon', 0.7668997679822408), ('Andy Sonnanstine', 0.7717546649969067), ('Brian Moehler', 0.78519651627960951), ('Ben Sheets', 0.78540081445894838), ('Esteban Loaiza', 0.79312398920700466), ('Kelvim Escobar', 0.80174792283766028), ('Glendon Rusch', 0.8044419867171424), ('Blaine Boyer', 0.80624181543856865), ('Gavin Floyd', 0.80649363993258938)]\n",
      "\n",
      "Barry Zito - Bartolo Colon\n",
      "[('Will Ohman', 0.7780907774622724), ('Jim Johnson', 0.77864535921014999), ('Kent Mercker', 0.78645781749942745), ('John Bale', 0.78939941287590243), ('Salomon Torres', 0.79088645169720428), ('Ricardo Rincon', 0.79405121027867964), ('Justin Lehr', 0.7942878601454485), ('Jason Marquis', 0.8068878788744327), ('Jason Jennings', 0.82062283694384708), ('John Patterson', 0.82169300018829228)]\n",
      "\n"
     ]
    }
   ],
   "source": [
    "def combine_players(player_1_name, player_2_name, data, latent_vecs, player_names, k = 10, subtract = False):\n",
    "    \"\"\"\n",
    "    Print the k nearest neighbors of the vector resulting from combining two\n",
    "    players in the latent space.\n",
    "    :param player_1_name: \n",
    "    :param player_2_name: \n",
    "    :param k: \n",
    "    :param subtract: \n",
    "    :return: \n",
    "    \"\"\"\n",
    "    player_1_index = np.where(data[\"name\"] == player_1_name)[0]\n",
    "    player_1_latent = latent_vecs[player_1_index]\n",
    "    \n",
    "    player_2_index = np.where(data[\"name\"] == player_2_name)[0]\n",
    "    player_2_latent = latent_vecs[player_2_index]\n",
    "    \n",
    "    distances = list(np.linalg.norm(latent_vecs - (player_1_latent + player_2_latent), axis = 1))\n",
    "    if subtract:\n",
    "        distances = list(np.linalg.norm(latent_vecs - (player_1_latent - player_2_latent), axis = 1))\n",
    "    \n",
    "    distances_and_ids = list(zip(player_names, distances))\n",
    "    distances_and_ids.sort(key = lambda x: x[1])\n",
    "    return distances_and_ids[1:1 + k]\n",
    "\n",
    "\n",
    "print(\"Barry Bonds + Ichiro Suzuki\")\n",
    "print(combine_players(\"Barry Bonds\", \"Ichiro Suzuki\", data[\"batter\"], latent_vecs[\"batter\"], player_names[\"batter\"]))\n",
    "print()\n",
    "\n",
    "print(\"Barry Bonds - Ichiro Suzuki\")\n",
    "print(combine_players(\"Barry Bonds\", \"Ichiro Suzuki\", data[\"batter\"], latent_vecs[\"batter\"], player_names[\"batter\"], subtract = True))\n",
    "print()\n",
    "\n",
    "print(\"Ichiro Suzuki - Barry Bonds\")\n",
    "print(combine_players(\"Ichiro Suzuki\", \"Barry Bonds\", data[\"batter\"], latent_vecs[\"batter\"], player_names[\"batter\"], subtract = True))\n",
    "print()\n",
    "\n",
    "print(\"Bartolo Colon + Barry Zito\")\n",
    "print(combine_players(\"Bartolo Colon\", \"Barry Zito\", data[\"pitcher\"], latent_vecs[\"pitcher\"], player_names[\"pitcher\"]))\n",
    "print()\n",
    "\n",
    "print(\"Bartolo Colon - Barry Zito\")\n",
    "print(combine_players(\"Bartolo Colon\", \"Barry Zito\", data[\"pitcher\"], latent_vecs[\"pitcher\"], player_names[\"pitcher\"], subtract = True))\n",
    "print()\n",
    "\n",
    "print(\"Barry Zito - Bartolo Colon\")\n",
    "print(combine_players(\"Barry Zito\", \"Bartolo Colon\", data[\"pitcher\"], latent_vecs[\"pitcher\"], player_names[\"pitcher\"], subtract = True))\n",
    "print()"
   ]
  }
 ],
 "metadata": {
  "anaconda-cloud": {},
  "kernelspec": {
   "display_name": "Python [Root]",
   "language": "python",
   "name": "Python [Root]"
  },
  "language_info": {
   "codemirror_mode": {
    "name": "ipython",
    "version": 3
   },
   "file_extension": ".py",
   "mimetype": "text/x-python",
   "name": "python",
   "nbconvert_exporter": "python",
   "pygments_lexer": "ipython3",
   "version": "3.5.2"
  }
 },
 "nbformat": 4,
 "nbformat_minor": 0
}
